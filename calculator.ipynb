{
  "metadata": {
    "kernelspec": {
      "name": "python",
      "display_name": "Python (Pyodide)",
      "language": "python"
    },
    "language_info": {
      "codemirror_mode": {
        "name": "python",
        "version": 3
      },
      "file_extension": ".py",
      "mimetype": "text/x-python",
      "name": "python",
      "nbconvert_exporter": "python",
      "pygments_lexer": "ipython3",
      "version": "3.8"
    }
  },
  "nbformat_minor": 4,
  "nbformat": 4,
  "cells": [
    {
      "cell_type": "code",
      "source": "import tkinter as tk\n\n# Create the main application window\napp = tk.Tk()\napp.title(\"Calculator\")\n\n# Set up the display for the calculator\ndisplay = tk.Entry(app, width=16, font=('Arial', 24), borderwidth=2, relief=\"solid\")\ndisplay.grid(row=0, column=0, columnspan=4)\n\n# Define a function to update the display\ndef update_display(value):\n    current_text = display.get()\n    display.delete(0, tk.END)\n    display.insert(0, current_text + value)\n\n# Define a function to clear the display\ndef clear_display():\n    display.delete(0, tk.END)\n\n# Define a function to calculate the result\ndef calculate():\n    try:\n        result = eval(display.get())\n        display.delete(0, tk.END)\n        display.insert(0, str(result))\n    except Exception as e:\n        display.delete(0, tk.END)\n        display.insert(0, \"Error\")\n\n# Define the button layout\nbuttons = [\n    ('7', 1, 0), ('8', 1, 1), ('9', 1, 2), ('/', 1, 3),\n    ('4', 2, 0), ('5', 2, 1), ('6', 2, 2), ('*', 2, 3),\n    ('1', 3, 0), ('2', 3, 1), ('3', 3, 2), ('-', 3, 3),\n    ('0', 4, 0), ('.', 4, 1), ('=', 4, 2), ('+', 4, 3),\n]\n\n# Add buttons to the application\nfor (text, row, column) in buttons:\n    if text == '=':\n        button = tk.Button(app, text=text, command=calculate, height=2, width=5)\n    else:\n        button = tk.Button(app, text=text, command=lambda t=text: update_display(t), height=2, width=5)\n    button.grid(row=row, column=column, sticky=\"nsew\")\n\n# Add a clear button\nclear_button = tk.Button(app, text='C', command=clear_display, height=2, width=5)\nclear_button.grid(row=4, column=2, sticky=\"nsew\")\n\n# Adjust column and row weights to make buttons expand\nfor i in range(4):\n    app.grid_columnconfigure(i, weight=1)\nfor i in range(5):\n    app.grid_rowconfigure(i, weight=1)\n\n# Run the application\napp.mainloop()\n",
      "metadata": {
        "trusted": true
      },
      "outputs": [],
      "execution_count": null
    }
  ]
}